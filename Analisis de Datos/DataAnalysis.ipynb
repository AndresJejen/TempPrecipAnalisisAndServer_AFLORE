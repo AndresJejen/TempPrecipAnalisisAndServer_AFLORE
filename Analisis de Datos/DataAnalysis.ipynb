{
 "cells": [
  {
   "cell_type": "markdown",
   "metadata": {},
   "source": [
    "# Data Analysis Honolulu\n",
    "Here i will explore de data of Honolulu. I would like to take a holiday in Bonolulu Hawaii, but i would like to explore some data of the weather.\n",
    "\n",
    "## Importing libraries"
   ]
  },
  {
   "cell_type": "code",
   "execution_count": 38,
   "metadata": {},
   "outputs": [],
   "source": [
    "import pandas as pd\n",
    "import matplotlib.pyplot as plt\n",
    "from sqlalchemy import create_engine, text\n",
    "from sqlalchemy.ext.automap import automap_base\n",
    "from sqlalchemy.orm import Session\n",
    "from collections import defaultdict\n",
    "from sqlalchemy.inspection import inspect"
   ]
  },
  {
   "cell_type": "markdown",
   "metadata": {},
   "source": [
    "## Importing data\n",
    "\n",
    "The data is saved in a Database format (SQLite) so i will use SQL Alchemy to connect and import data using SQL Queries and dave this data in a pandas dataFrame\n",
    "\n",
    "### Connecting to Database"
   ]
  },
  {
   "cell_type": "code",
   "execution_count": 12,
   "metadata": {},
   "outputs": [],
   "source": [
    "engine=create_engine('sqlite:///hawaii.sqlite')"
   ]
  },
  {
   "cell_type": "markdown",
   "metadata": {},
   "source": [
    "### Query function"
   ]
  },
  {
   "cell_type": "code",
   "execution_count": 36,
   "metadata": {},
   "outputs": [],
   "source": [
    "def runQuery(sql):\n",
    "     result = engine.connect().execute((text(sql)))\n",
    "     return pd.DataFrame(result.fetchall(), columns=result.keys())\n",
    "\n",
    "def query_to_dict(rset):\n",
    "    result = defaultdict(list)\n",
    "    for obj in rset:\n",
    "        instance = inspect(obj)\n",
    "        for key, x in instance.attrs.items():\n",
    "            result[key].append(x.value)\n",
    "    return result\n",
    "\n",
    "def query_to_pandas(data: dict):\n",
    "     return pd.DataFrame(query_to_dict(data))"
   ]
  },
  {
   "cell_type": "markdown",
   "metadata": {},
   "source": [
    "### Tables"
   ]
  },
  {
   "cell_type": "code",
   "execution_count": 14,
   "metadata": {},
   "outputs": [
    {
     "output_type": "execute_result",
     "data": {
      "text/plain": "          name\n0  measurement\n1      station",
      "text/html": "<div>\n<style scoped>\n    .dataframe tbody tr th:only-of-type {\n        vertical-align: middle;\n    }\n\n    .dataframe tbody tr th {\n        vertical-align: top;\n    }\n\n    .dataframe thead th {\n        text-align: right;\n    }\n</style>\n<table border=\"1\" class=\"dataframe\">\n  <thead>\n    <tr style=\"text-align: right;\">\n      <th></th>\n      <th>name</th>\n    </tr>\n  </thead>\n  <tbody>\n    <tr>\n      <th>0</th>\n      <td>measurement</td>\n    </tr>\n    <tr>\n      <th>1</th>\n      <td>station</td>\n    </tr>\n  </tbody>\n</table>\n</div>"
     },
     "metadata": {},
     "execution_count": 14
    }
   ],
   "source": [
    "Query = \"\"\"\n",
    "SELECT \n",
    "    name\n",
    "FROM \n",
    "    sqlite_master \n",
    "WHERE \n",
    "    type ='table' AND \n",
    "    name NOT LIKE 'sqlite_%';\n",
    "\"\"\"\n",
    "runQuery(Query)"
   ]
  },
  {
   "cell_type": "markdown",
   "metadata": {},
   "source": [
    "### Tables Intances"
   ]
  },
  {
   "cell_type": "code",
   "execution_count": 39,
   "metadata": {},
   "outputs": [],
   "source": [
    "Base = automap_base()\n",
    "Base.prepare(engine, reflect=True)\n",
    "\n",
    "Station = Base.classes.station\n",
    "Measurement = Base.classes.measurement\n",
    "\n",
    "session = Session(engine)"
   ]
  },
  {
   "cell_type": "markdown",
   "metadata": {},
   "source": [
    "## precipitation analysis\n",
    "\n",
    "### 1. Last 12 month\n"
   ]
  },
  {
   "cell_type": "code",
   "execution_count": 41,
   "metadata": {},
   "outputs": [
    {
     "output_type": "execute_result",
     "data": {
      "text/plain": "          id      station        date  prcp  tobs\n0          1  USC00519397  2010-01-01  0.08  65.0\n1          2  USC00519397  2010-01-02  0.00  63.0\n2          3  USC00519397  2010-01-03  0.00  74.0\n3          4  USC00519397  2010-01-04  0.00  76.0\n4          5  USC00519397  2010-01-06   NaN  73.0\n...      ...          ...         ...   ...   ...\n19545  19546  USC00516128  2017-08-19  0.09  71.0\n19546  19547  USC00516128  2017-08-20   NaN  78.0\n19547  19548  USC00516128  2017-08-21  0.56  76.0\n19548  19549  USC00516128  2017-08-22  0.50  76.0\n19549  19550  USC00516128  2017-08-23  0.45  76.0\n\n[19550 rows x 5 columns]",
      "text/html": "<div>\n<style scoped>\n    .dataframe tbody tr th:only-of-type {\n        vertical-align: middle;\n    }\n\n    .dataframe tbody tr th {\n        vertical-align: top;\n    }\n\n    .dataframe thead th {\n        text-align: right;\n    }\n</style>\n<table border=\"1\" class=\"dataframe\">\n  <thead>\n    <tr style=\"text-align: right;\">\n      <th></th>\n      <th>id</th>\n      <th>station</th>\n      <th>date</th>\n      <th>prcp</th>\n      <th>tobs</th>\n    </tr>\n  </thead>\n  <tbody>\n    <tr>\n      <th>0</th>\n      <td>1</td>\n      <td>USC00519397</td>\n      <td>2010-01-01</td>\n      <td>0.08</td>\n      <td>65.0</td>\n    </tr>\n    <tr>\n      <th>1</th>\n      <td>2</td>\n      <td>USC00519397</td>\n      <td>2010-01-02</td>\n      <td>0.00</td>\n      <td>63.0</td>\n    </tr>\n    <tr>\n      <th>2</th>\n      <td>3</td>\n      <td>USC00519397</td>\n      <td>2010-01-03</td>\n      <td>0.00</td>\n      <td>74.0</td>\n    </tr>\n    <tr>\n      <th>3</th>\n      <td>4</td>\n      <td>USC00519397</td>\n      <td>2010-01-04</td>\n      <td>0.00</td>\n      <td>76.0</td>\n    </tr>\n    <tr>\n      <th>4</th>\n      <td>5</td>\n      <td>USC00519397</td>\n      <td>2010-01-06</td>\n      <td>NaN</td>\n      <td>73.0</td>\n    </tr>\n    <tr>\n      <th>...</th>\n      <td>...</td>\n      <td>...</td>\n      <td>...</td>\n      <td>...</td>\n      <td>...</td>\n    </tr>\n    <tr>\n      <th>19545</th>\n      <td>19546</td>\n      <td>USC00516128</td>\n      <td>2017-08-19</td>\n      <td>0.09</td>\n      <td>71.0</td>\n    </tr>\n    <tr>\n      <th>19546</th>\n      <td>19547</td>\n      <td>USC00516128</td>\n      <td>2017-08-20</td>\n      <td>NaN</td>\n      <td>78.0</td>\n    </tr>\n    <tr>\n      <th>19547</th>\n      <td>19548</td>\n      <td>USC00516128</td>\n      <td>2017-08-21</td>\n      <td>0.56</td>\n      <td>76.0</td>\n    </tr>\n    <tr>\n      <th>19548</th>\n      <td>19549</td>\n      <td>USC00516128</td>\n      <td>2017-08-22</td>\n      <td>0.50</td>\n      <td>76.0</td>\n    </tr>\n    <tr>\n      <th>19549</th>\n      <td>19550</td>\n      <td>USC00516128</td>\n      <td>2017-08-23</td>\n      <td>0.45</td>\n      <td>76.0</td>\n    </tr>\n  </tbody>\n</table>\n<p>19550 rows × 5 columns</p>\n</div>"
     },
     "metadata": {},
     "execution_count": 41
    }
   ],
   "source": [
    "rset = session.query(Measurement).all()\n",
    "df = "
   ]
  }
 ],
 "metadata": {
  "language_info": {
   "codemirror_mode": {
    "name": "ipython",
    "version": 3
   },
   "file_extension": ".py",
   "mimetype": "text/x-python",
   "name": "python",
   "nbconvert_exporter": "python",
   "pygments_lexer": "ipython3",
   "version": "3.7.4-final"
  },
  "orig_nbformat": 2,
  "kernelspec": {
   "name": "python37464bitdataanalisisacfloreenvvenv7ff750fd4fd84a0daf7503f492eca276",
   "display_name": "Python 3.7.4 64-bit ('DataAnalisisACflore_env': venv)"
  }
 },
 "nbformat": 4,
 "nbformat_minor": 2
}